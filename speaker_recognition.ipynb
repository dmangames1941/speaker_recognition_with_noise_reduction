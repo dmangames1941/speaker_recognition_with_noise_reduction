{
 "cells": [
  {
   "cell_type": "code",
   "execution_count": 16,
   "id": "8f1a9cd7-5132-492e-8009-fab2c82375cf",
   "metadata": {},
   "outputs": [],
   "source": [
    "import os\n",
    "import numpy as np\n",
    "import pandas as pd\n",
    "from matplotlib import pyplot as plt\n",
    "import seaborn as sns\n",
    "import torch\n",
    "from torch.utils.data import Dataset\n",
    "import torchaudio\n",
    "import torchaudio.transforms as T\n",
    "from glob import glob"
   ]
  },
  {
   "cell_type": "code",
   "execution_count": 12,
   "id": "bf4950d9-703e-4a66-bee6-af239764400b",
   "metadata": {},
   "outputs": [],
   "source": [
    "cmgan_checkpoint = torch.load('./Checkpoint_CMGAN/CMGAN_epoch_34_0.124', weights_only=False, map_location=torch.device('cpu'))"
   ]
  },
  {
   "cell_type": "code",
   "execution_count": 14,
   "id": "b8f10b04-c6a0-4c68-84ce-05f20c883fc9",
   "metadata": {},
   "outputs": [],
   "source": [
    "class AudioDataset(Dataset):\n",
    "    def __init__(self, data_dir, sample_rate=16000, cmgan_model=None):\n",
    "        data_files = glob(os.path.join(data_dir, \"*.wav\"))[:500]  # Limit to first 500 files\n",
    "\n",
    "        self.sample_rate = sample_rate\n",
    "        self.cmgan = cmgan_model\n",
    "\n",
    "        self.spectrogram_transform = T.MelSpectrogram(\n",
    "            sample_rate=sample_rate,\n",
    "            n_fft=1024,\n",
    "            hop_length=256,\n",
    "            n_mels=128\n",
    "        )\n",
    "\n",
    "        self.resampler = T.Resample(orig_freq=44100, new_freq=sample_rate)\n",
    "\n",
    "    def __len__(self):\n",
    "        return len(self.files)\n",
    "\n",
    "    def __getitem__(self, idx):\n",
    "        path = self.files[idx]\n",
    "\n",
    "        waveform, sr = torchaudio.load(path)\n",
    "\n",
    "        if sr != self.sample_rate:\n",
    "            waveform = self.resampler(waveform)\n",
    "\n",
    "        if self.cmgan:\n",
    "            waveform = self.cmgan(waveform)\n",
    "\n",
    "        spectrogram = self.spectrogram_transform(waveform)\n",
    "\n",
    "        return spectrogram, path"
   ]
  },
  {
   "cell_type": "code",
   "execution_count": 19,
   "id": "1b5beaca-db23-4d59-946d-5b64331ac19b",
   "metadata": {},
   "outputs": [],
   "source": [
    "dataset = AudioDataset(\"Dataset/noisy_trainset_56spk_wav/noisy_trainset_56spk_wav/\", cmgan_model=cmgan_checkpoint)"
   ]
  },
  {
   "cell_type": "code",
   "execution_count": null,
   "id": "cf77f730-17de-43ad-9a19-d2efc441df52",
   "metadata": {},
   "outputs": [],
   "source": []
  }
 ],
 "metadata": {
  "kernelspec": {
   "display_name": "Python 3 (ipykernel)",
   "language": "python",
   "name": "python3"
  },
  "language_info": {
   "codemirror_mode": {
    "name": "ipython",
    "version": 3
   },
   "file_extension": ".py",
   "mimetype": "text/x-python",
   "name": "python",
   "nbconvert_exporter": "python",
   "pygments_lexer": "ipython3",
   "version": "3.12.9"
  }
 },
 "nbformat": 4,
 "nbformat_minor": 5
}
